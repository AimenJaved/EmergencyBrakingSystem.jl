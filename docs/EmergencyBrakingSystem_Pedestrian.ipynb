{
 "cells": [
  {
   "cell_type": "code",
   "execution_count": null,
   "metadata": {},
   "outputs": [],
   "source": [
    "] activate ../."
   ]
  },
  {
   "cell_type": "code",
   "execution_count": null,
   "metadata": {},
   "outputs": [],
   "source": [
    "using AutomotiveDrivingModels\n",
    "using AutoViz\n",
    "using AutomotiveSensors\n",
    "using AutomotivePOMDPs\n",
    "using Reel\n",
    "using Revise\n",
    "\n",
    "using EmergencyBrakingSystem"
   ]
  },
  {
   "cell_type": "code",
   "execution_count": null,
   "metadata": {},
   "outputs": [],
   "source": [
    "\n",
    "# Definition ego vehicle and pedestrian behavior\n",
    "\n",
    "scenarios = [\"CPCN\", \"CPAN25\", \"CPAN75\", \"CPFA\"]\n",
    "vut_speeds = [10., 15., 20., 25., 30., 35., 40., 45., 50., 55., 60.]\n",
    "vut_speeds = vut_speeds / 3.6\n",
    "hit_points = [0., 10., 20., 30., 40., 50.]\n",
    "\n",
    "\n",
    "ego_v = vut_speeds[9]\n",
    "hit_point = hit_points[1]\n",
    "scenario = scenarios[2]\n",
    "\n",
    "\n",
    "### Simulate scenario with parameters above defined\n",
    "# generate scenario based on scenario type\n",
    "(ego_x, ego_y, ego_v, ped_x, ped_y, ped_v, ped_theta, obstacles, scenario_id) = generate_scenario(scenario, ego_v, hit_point)\n",
    "# simulate scenario\n",
    "(rec, timestep, env, ego_vehicle, sensor, sensor_observations, risk, ttc, collision_rate, emergency_brake_request, prediction, collision, ego_a) = EmergencyBrakingSystem.evaluate_scenario(ego_x, ego_y, ego_v, ped_x, ped_y, ped_v, ped_theta, obstacles)\n",
    "#evaluate result\n",
    "(collision2, emergency_brake_intervention, dv_collision, v_mean, a_mean, a_jerk, a_min) = evaluateScenarioMetric(ego_vehicle, emergency_brake_request, ego_a, collision)\n"
   ]
  },
  {
   "cell_type": "code",
   "execution_count": null,
   "metadata": {},
   "outputs": [],
   "source": [
    "# Visualize scenario\n",
    "duration, fps, render_hist = EmergencyBrakingSystem.animate_record(rec, timestep, env, ego_vehicle, sensor, sensor_observations, risk, ttc, collision_rate, emergency_brake_request, prediction, StaticCamera(VecE2(38.0,0.0),25.0))\n",
    "film = roll(render_hist, fps = fps, duration = duration)\n",
    "#write(\"file.mp4\", film) # Write to a webm video"
   ]
  },
  {
   "cell_type": "code",
   "execution_count": null,
   "metadata": {},
   "outputs": [],
   "source": [
    "# Evaluate EuroNCAP scenarios\n",
    "\n",
    "using CSV\n",
    "using DataFrames\n",
    "\n",
    "\n",
    "algorithm = \"EmergancyBrakingSystem\"\n",
    "#algorithm = \"PedestrianAvoidancePOMDP\"\n",
    "#algorithm = \"PedestrianAvoidancePOMDP_EmergencyBrakingSystem\"\n",
    "\n",
    "policy = \"no\"\n",
    "#policy = \"longitudinal_support\"\n",
    "#policy = \"longitudinal_lateral_support\"\n",
    "\n",
    "log_filename = string(\"results_\", algorithm, \"_\", policy, \".csv\")\n",
    "\n",
    "println(log_filename)\n",
    "\n",
    "scenarios = [\"CPCN\", \"CPAN25\", \"CPAN75\", \"CPFA\"]\n",
    "vut_speeds = [50.] #[10., 15., 20., 25., 30., 35., 40., 45., 50., 55., 60.]\n",
    "vut_speeds = vut_speeds / 3.6\n",
    "hit_points = [0.] #[0., 10., 20., 30., 40., 50.]\n",
    "\n",
    "\n",
    "println(\"Algorithm to evaluate: \", algorithm, \" Policy: \", policy, \" (if specified)\")\n",
    "\n",
    "# Evaluate all EuroNCAP scenarios\n",
    "rec, timestep, env, ego_vehicle, sensor, sensor_observations, risk, ttc, collision_rate, emergency_brake_request, prediction, collision, ego_a\n",
    "results = Vector[]\n",
    "for scenario in scenarios\n",
    "    for hit_point in hit_points\n",
    "        for vut_speed in vut_speeds\n",
    "            ego_v = vut_speed\n",
    "            (ego_x, ego_y, ego_v, ped_x, ped_y, ped_v, ped_theta, obstacles, scenario_id) = generate_scenario(scenario, ego_v, hit_point)\n",
    "            if algorithm == \"EmergancyBrakingSystem\"\n",
    "                (rec, timestep, env, ego_vehicle, sensor, sensor_observations, risk, ttc, collision_rate, emergency_brake_request, prediction, collision, ego_a) = EmergencyBrakingSystem.evaluate_scenario(ego_x, ego_y, ego_v, ped_x, ped_y, ped_v, ped_theta, obstacles)\n",
    "            elseif algorithm == \"PedestrianAvoidancePOMDP\"\n",
    "\n",
    "            elseif algorithm == \"PedestrianAvoidancePOMDP_EmergencyBrakingSystem\"\n",
    "                \n",
    "            else\n",
    "                println(\"No valid algorithm defined!\")\n",
    "                return false\n",
    "            end\n",
    "            \n",
    "            (collision, emergency_brake_intervention, dv_collision, v_mean, a_mean, a_jerk, a_min) = evaluateScenarioMetric(ego_vehicle, emergency_brake_request, ego_a, collision)\n",
    "            println(collision, \" \", emergency_brake_intervention, \" \", dv_collision, \" \", v_mean, \" \", a_mean, \" \", a_jerk, \" \", a_min)\n",
    "            result = [scenario_id, ego_v, hit_point, collision, emergency_brake_intervention, dv_collision, v_mean, a_mean, a_jerk, a_min  ]\n",
    "            push!(results, result)\n",
    "        end\n",
    "    end \n",
    "end  \n",
    "\n",
    "\n",
    "# store results from scneario evaluation in log file\n",
    "df = DataFrame(results)\n",
    "df = DataFrame(Matrix(df)')\n",
    "rename!(df, :x1 => :scenario_id, :x2 => :ego_v, :x3 => :hit_point, :x4 => :collision, :x5 => :eb_intervention)\n",
    "rename!(df, :x6 => :dv_collision, :x7 => :v_mean, :x8 => :a_mean, :x9 => :a_jerk, :x10 => :a_min)\n",
    "\n",
    "CSV.write(log_filename, df);\n",
    "df\n"
   ]
  },
  {
   "cell_type": "code",
   "execution_count": null,
   "metadata": {},
   "outputs": [],
   "source": []
  }
 ],
 "metadata": {
  "@webio": {
   "lastCommId": "48b583df80944dd8b25b6e9d3a44796a",
   "lastKernelId": "b62d7291-33ad-4623-b6b6-561a216a21ef"
  },
  "kernelspec": {
   "display_name": "Julia 1.0.1",
   "language": "julia",
   "name": "julia-1.0"
  },
  "language_info": {
   "file_extension": ".jl",
   "mimetype": "application/julia",
   "name": "julia",
   "version": "1.0.1"
  }
 },
 "nbformat": 4,
 "nbformat_minor": 2
}
