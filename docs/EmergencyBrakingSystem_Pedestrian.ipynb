{
 "cells": [
  {
   "cell_type": "code",
   "execution_count": 1,
   "metadata": {},
   "outputs": [],
   "source": [
    "] activate ../."
   ]
  },
  {
   "cell_type": "code",
   "execution_count": 2,
   "metadata": {},
   "outputs": [
    {
     "name": "stderr",
     "output_type": "stream",
     "text": [
      "┌ Info: Recompiling stale cache file /home/xubuntu/.julia/compiled/v1.0/EmergencyBrakingSystem/YXMuK.ji for EmergencyBrakingSystem [3f59e4f0-e69d-11e8-310d-15d6353296e9]\n",
      "└ @ Base loading.jl:1187\n"
     ]
    }
   ],
   "source": [
    "using AutomotiveDrivingModels\n",
    "using AutoViz\n",
    "using AutomotiveSensors\n",
    "using AutomotivePOMDPs\n",
    "using Reel\n",
    "using Revise\n",
    "\n",
    "using EmergencyBrakingSystem\n"
   ]
  },
  {
   "cell_type": "code",
   "execution_count": 3,
   "metadata": {},
   "outputs": [
    {
     "data": {
      "text/plain": [
       "(true, true, 7.638888888888889, 13.214285714285731, -9.0, 10.0, -10.0)"
      ]
     },
     "execution_count": 3,
     "metadata": {},
     "output_type": "execute_result"
    }
   ],
   "source": [
    "\n",
    "# Definition ego vehicle and pedestrian behavior\n",
    "\n",
    "scenarios = [\"CPCN\", \"CPAN25\", \"CPAN75\", \"CPFA\"]\n",
    "vut_speeds = [10., 15., 20., 25., 30., 35., 40., 45., 50., 55., 60.]\n",
    "vut_speeds = vut_speeds / 3.6\n",
    "hit_points = [0., 10., 20., 30., 40., 50.]\n",
    "\n",
    "\n",
    "ego_v = vut_speeds[9]\n",
    "hit_point = hit_points[1]\n",
    "scenario = scenarios[1]\n",
    "\n",
    "\n",
    "### Simulate scenario with parameters above defined\n",
    "# generate scenario based on scenario type\n",
    "(ego_x, ego_y, ego_v, ped_x, ped_y, ped_v, ped_theta, obstacles, scenario_id) = generate_scenario(scenario, ego_v, hit_point)\n",
    "# simulate scenario\n",
    "(rec, timestep, env, sensor, sensor_observations, ego_vehicle, ego_a, collision, collision_rate, ttc, risk, emergency_brake_request, prediction_obstacle) = EmergencyBrakingSystem.evaluate_scenario(ego_x, ego_y, ego_v, ped_x, ped_y, ped_v, ped_theta, obstacles)\n",
    "#evaluate result\n",
    "(collision2, emergency_brake_intervention, dv_collision, v_mean, a_mean, a_jerk, a_min) = evaluateScenarioMetric(ego_vehicle, emergency_brake_request, ego_a, collision)\n",
    "\n",
    "#println(ego_x, \" \", ego_y, \" \", ego_v, \" \", ped_x, \" \", ped_y, \" \", ped_v, \" \", ped_theta, \" \", obstacles)"
   ]
  },
  {
   "cell_type": "code",
   "execution_count": 4,
   "metadata": {},
   "outputs": [
    {
     "data": {
      "text/html": [
       "<video autoplay controls><source src=\"files/reel-3775111176446572569.webm?16717945167446936013\" type=\"video/webm\"></video>"
      ],
      "text/plain": [
       "Frames{MIME{Symbol(\"image/png\")}}(\"/tmp/tmp6Pkdhi\", 0x0000000000000040, 20.0, nothing)"
      ]
     },
     "execution_count": 4,
     "metadata": {},
     "output_type": "execute_result"
    }
   ],
   "source": [
    "# Visualize scenario\n",
    "duration, fps, render_hist = EmergencyBrakingSystem.animate_record(rec, timestep, env, ego_vehicle, sensor, sensor_observations, risk, ttc, collision_rate, emergency_brake_request, prediction_obstacle, StaticCamera(VecE2(38.0,0.0),25.0))\n",
    "film = roll(render_hist, fps = fps, duration = duration)\n",
    "#write(\"file.mp4\", film) # Write to a webm video"
   ]
  },
  {
   "cell_type": "code",
   "execution_count": 5,
   "metadata": {},
   "outputs": [
    {
     "name": "stdout",
     "output_type": "stream",
     "text": [
      "results_EmergancyBrakingSystem_no.csv\n",
      "Algorithm to evaluate: EmergancyBrakingSystem Policy: no (if specified)\n",
      "true true 5.138888888888889 12.6578282828283 -9.25 10.0 -10.0\n",
      "false true 0.0 11.236861861861879 -9.5 20.0 -10.0\n",
      "false true 0.0 11.236861861861879 -9.5 20.0 -10.0\n",
      "false true 0.0 11.236861861861879 -9.5 20.0 -10.0\n",
      "false true 0.0 11.236861861861879 -9.5 20.0 -10.0\n",
      "false true 0.0 11.236861861861879 -9.5 20.0 -10.0\n",
      "false true 0.0 11.236861861861879 -9.5 20.0 -10.0\n",
      "false true 0.0 11.236861861861879 -9.5 20.0 -10.0\n",
      "false true 0.0 11.236861861861879 -9.5 20.0 -10.0\n",
      "false true 0.0 11.200532724505345 -9.5 20.0 -10.0\n",
      "false true 0.0 11.236861861861879 -9.5 20.0 -10.0\n",
      "false true 0.0 11.200532724505345 -9.5 20.0 -10.0\n",
      "false true 0.0 11.236861861861879 -9.5 20.0 -10.0\n",
      "false true 0.0 11.200532724505345 -9.5 20.0 -10.0\n",
      "false true 0.0 11.236861861861879 -9.5 20.0 -10.0\n",
      "false true 0.0 11.200532724505345 -9.5 20.0 -10.0\n",
      "false true 0.0 11.236861861861879 -9.5 20.0 -10.0\n",
      "false true 0.0 11.200532724505345 -9.5 20.0 -10.0\n",
      "false true 0.0 11.200532724505345 -9.5 20.0 -10.0\n",
      "false true 0.0 11.200532724505345 -9.5 20.0 -10.0\n",
      "false true 0.0 11.236861861861879 -9.5 20.0 -10.0\n",
      "false true 0.0 11.200532724505345 -9.5 20.0 -10.0\n",
      "false true 0.0 11.236861861861879 -9.5 20.0 -10.0\n",
      "false true 0.0 11.236861861861879 -9.5 20.0 -10.0\n"
     ]
    },
    {
     "data": {
      "text/html": [
       "<table class=\"data-frame\"><thead><tr><th></th><th>scenario_id</th><th>ego_v</th><th>hit_point</th><th>collision</th><th>eb_intervention</th><th>dv_collision</th><th>v_mean</th><th>a_mean</th><th>a_jerk</th><th>a_min</th></tr><tr><th></th><th>Float64</th><th>Float64</th><th>Float64</th><th>Float64</th><th>Float64</th><th>Float64</th><th>Float64</th><th>Float64</th><th>Float64</th><th>Float64</th></tr></thead><tbody><p>24 rows × 10 columns</p><tr><th>1</th><td>1.0</td><td>13.8889</td><td>0.0</td><td>1.0</td><td>1.0</td><td>5.13889</td><td>12.6578</td><td>-9.25</td><td>10.0</td><td>-10.0</td></tr><tr><th>2</th><td>1.0</td><td>13.8889</td><td>10.0</td><td>0.0</td><td>1.0</td><td>0.0</td><td>11.2369</td><td>-9.5</td><td>20.0</td><td>-10.0</td></tr><tr><th>3</th><td>1.0</td><td>13.8889</td><td>20.0</td><td>0.0</td><td>1.0</td><td>0.0</td><td>11.2369</td><td>-9.5</td><td>20.0</td><td>-10.0</td></tr><tr><th>4</th><td>1.0</td><td>13.8889</td><td>30.0</td><td>0.0</td><td>1.0</td><td>0.0</td><td>11.2369</td><td>-9.5</td><td>20.0</td><td>-10.0</td></tr><tr><th>5</th><td>1.0</td><td>13.8889</td><td>40.0</td><td>0.0</td><td>1.0</td><td>0.0</td><td>11.2369</td><td>-9.5</td><td>20.0</td><td>-10.0</td></tr><tr><th>6</th><td>1.0</td><td>13.8889</td><td>50.0</td><td>0.0</td><td>1.0</td><td>0.0</td><td>11.2369</td><td>-9.5</td><td>20.0</td><td>-10.0</td></tr><tr><th>7</th><td>2.0</td><td>13.8889</td><td>0.0</td><td>0.0</td><td>1.0</td><td>0.0</td><td>11.2369</td><td>-9.5</td><td>20.0</td><td>-10.0</td></tr><tr><th>8</th><td>2.0</td><td>13.8889</td><td>10.0</td><td>0.0</td><td>1.0</td><td>0.0</td><td>11.2369</td><td>-9.5</td><td>20.0</td><td>-10.0</td></tr><tr><th>9</th><td>2.0</td><td>13.8889</td><td>20.0</td><td>0.0</td><td>1.0</td><td>0.0</td><td>11.2369</td><td>-9.5</td><td>20.0</td><td>-10.0</td></tr><tr><th>10</th><td>2.0</td><td>13.8889</td><td>30.0</td><td>0.0</td><td>1.0</td><td>0.0</td><td>11.2005</td><td>-9.5</td><td>20.0</td><td>-10.0</td></tr><tr><th>11</th><td>2.0</td><td>13.8889</td><td>40.0</td><td>0.0</td><td>1.0</td><td>0.0</td><td>11.2369</td><td>-9.5</td><td>20.0</td><td>-10.0</td></tr><tr><th>12</th><td>2.0</td><td>13.8889</td><td>50.0</td><td>0.0</td><td>1.0</td><td>0.0</td><td>11.2005</td><td>-9.5</td><td>20.0</td><td>-10.0</td></tr><tr><th>13</th><td>3.0</td><td>13.8889</td><td>0.0</td><td>0.0</td><td>1.0</td><td>0.0</td><td>11.2369</td><td>-9.5</td><td>20.0</td><td>-10.0</td></tr><tr><th>14</th><td>3.0</td><td>13.8889</td><td>10.0</td><td>0.0</td><td>1.0</td><td>0.0</td><td>11.2005</td><td>-9.5</td><td>20.0</td><td>-10.0</td></tr><tr><th>15</th><td>3.0</td><td>13.8889</td><td>20.0</td><td>0.0</td><td>1.0</td><td>0.0</td><td>11.2369</td><td>-9.5</td><td>20.0</td><td>-10.0</td></tr><tr><th>16</th><td>3.0</td><td>13.8889</td><td>30.0</td><td>0.0</td><td>1.0</td><td>0.0</td><td>11.2005</td><td>-9.5</td><td>20.0</td><td>-10.0</td></tr><tr><th>17</th><td>3.0</td><td>13.8889</td><td>40.0</td><td>0.0</td><td>1.0</td><td>0.0</td><td>11.2369</td><td>-9.5</td><td>20.0</td><td>-10.0</td></tr><tr><th>18</th><td>3.0</td><td>13.8889</td><td>50.0</td><td>0.0</td><td>1.0</td><td>0.0</td><td>11.2005</td><td>-9.5</td><td>20.0</td><td>-10.0</td></tr><tr><th>19</th><td>4.0</td><td>13.8889</td><td>0.0</td><td>0.0</td><td>1.0</td><td>0.0</td><td>11.2005</td><td>-9.5</td><td>20.0</td><td>-10.0</td></tr><tr><th>20</th><td>4.0</td><td>13.8889</td><td>10.0</td><td>0.0</td><td>1.0</td><td>0.0</td><td>11.2005</td><td>-9.5</td><td>20.0</td><td>-10.0</td></tr><tr><th>21</th><td>4.0</td><td>13.8889</td><td>20.0</td><td>0.0</td><td>1.0</td><td>0.0</td><td>11.2369</td><td>-9.5</td><td>20.0</td><td>-10.0</td></tr><tr><th>22</th><td>4.0</td><td>13.8889</td><td>30.0</td><td>0.0</td><td>1.0</td><td>0.0</td><td>11.2005</td><td>-9.5</td><td>20.0</td><td>-10.0</td></tr><tr><th>23</th><td>4.0</td><td>13.8889</td><td>40.0</td><td>0.0</td><td>1.0</td><td>0.0</td><td>11.2369</td><td>-9.5</td><td>20.0</td><td>-10.0</td></tr><tr><th>24</th><td>4.0</td><td>13.8889</td><td>50.0</td><td>0.0</td><td>1.0</td><td>0.0</td><td>11.2369</td><td>-9.5</td><td>20.0</td><td>-10.0</td></tr></tbody></table>"
      ],
      "text/latex": [
       "\\begin{tabular}{r|cccccccccc}\n",
       "\t& scenario\\_id & ego\\_v & hit\\_point & collision & eb\\_intervention & dv\\_collision & v\\_mean & a\\_mean & a\\_jerk & a\\_min\\\\\n",
       "\t\\hline\n",
       "\t1 & 1.0 & 13.8889 & 0.0 & 1.0 & 1.0 & 5.13889 & 12.6578 & -9.25 & 10.0 & -10.0 \\\\\n",
       "\t2 & 1.0 & 13.8889 & 10.0 & 0.0 & 1.0 & 0.0 & 11.2369 & -9.5 & 20.0 & -10.0 \\\\\n",
       "\t3 & 1.0 & 13.8889 & 20.0 & 0.0 & 1.0 & 0.0 & 11.2369 & -9.5 & 20.0 & -10.0 \\\\\n",
       "\t4 & 1.0 & 13.8889 & 30.0 & 0.0 & 1.0 & 0.0 & 11.2369 & -9.5 & 20.0 & -10.0 \\\\\n",
       "\t5 & 1.0 & 13.8889 & 40.0 & 0.0 & 1.0 & 0.0 & 11.2369 & -9.5 & 20.0 & -10.0 \\\\\n",
       "\t6 & 1.0 & 13.8889 & 50.0 & 0.0 & 1.0 & 0.0 & 11.2369 & -9.5 & 20.0 & -10.0 \\\\\n",
       "\t7 & 2.0 & 13.8889 & 0.0 & 0.0 & 1.0 & 0.0 & 11.2369 & -9.5 & 20.0 & -10.0 \\\\\n",
       "\t8 & 2.0 & 13.8889 & 10.0 & 0.0 & 1.0 & 0.0 & 11.2369 & -9.5 & 20.0 & -10.0 \\\\\n",
       "\t9 & 2.0 & 13.8889 & 20.0 & 0.0 & 1.0 & 0.0 & 11.2369 & -9.5 & 20.0 & -10.0 \\\\\n",
       "\t10 & 2.0 & 13.8889 & 30.0 & 0.0 & 1.0 & 0.0 & 11.2005 & -9.5 & 20.0 & -10.0 \\\\\n",
       "\t11 & 2.0 & 13.8889 & 40.0 & 0.0 & 1.0 & 0.0 & 11.2369 & -9.5 & 20.0 & -10.0 \\\\\n",
       "\t12 & 2.0 & 13.8889 & 50.0 & 0.0 & 1.0 & 0.0 & 11.2005 & -9.5 & 20.0 & -10.0 \\\\\n",
       "\t13 & 3.0 & 13.8889 & 0.0 & 0.0 & 1.0 & 0.0 & 11.2369 & -9.5 & 20.0 & -10.0 \\\\\n",
       "\t14 & 3.0 & 13.8889 & 10.0 & 0.0 & 1.0 & 0.0 & 11.2005 & -9.5 & 20.0 & -10.0 \\\\\n",
       "\t15 & 3.0 & 13.8889 & 20.0 & 0.0 & 1.0 & 0.0 & 11.2369 & -9.5 & 20.0 & -10.0 \\\\\n",
       "\t16 & 3.0 & 13.8889 & 30.0 & 0.0 & 1.0 & 0.0 & 11.2005 & -9.5 & 20.0 & -10.0 \\\\\n",
       "\t17 & 3.0 & 13.8889 & 40.0 & 0.0 & 1.0 & 0.0 & 11.2369 & -9.5 & 20.0 & -10.0 \\\\\n",
       "\t18 & 3.0 & 13.8889 & 50.0 & 0.0 & 1.0 & 0.0 & 11.2005 & -9.5 & 20.0 & -10.0 \\\\\n",
       "\t19 & 4.0 & 13.8889 & 0.0 & 0.0 & 1.0 & 0.0 & 11.2005 & -9.5 & 20.0 & -10.0 \\\\\n",
       "\t20 & 4.0 & 13.8889 & 10.0 & 0.0 & 1.0 & 0.0 & 11.2005 & -9.5 & 20.0 & -10.0 \\\\\n",
       "\t21 & 4.0 & 13.8889 & 20.0 & 0.0 & 1.0 & 0.0 & 11.2369 & -9.5 & 20.0 & -10.0 \\\\\n",
       "\t22 & 4.0 & 13.8889 & 30.0 & 0.0 & 1.0 & 0.0 & 11.2005 & -9.5 & 20.0 & -10.0 \\\\\n",
       "\t23 & 4.0 & 13.8889 & 40.0 & 0.0 & 1.0 & 0.0 & 11.2369 & -9.5 & 20.0 & -10.0 \\\\\n",
       "\t24 & 4.0 & 13.8889 & 50.0 & 0.0 & 1.0 & 0.0 & 11.2369 & -9.5 & 20.0 & -10.0 \\\\\n",
       "\\end{tabular}\n"
      ],
      "text/plain": [
       "24×10 DataFrame. Omitted printing of 5 columns\n",
       "│ Row │ scenario_id │ ego_v   │ hit_point │ collision │ eb_intervention │\n",
       "│     │ \u001b[90mFloat64\u001b[39m     │ \u001b[90mFloat64\u001b[39m │ \u001b[90mFloat64\u001b[39m   │ \u001b[90mFloat64\u001b[39m   │ \u001b[90mFloat64\u001b[39m         │\n",
       "├─────┼─────────────┼─────────┼───────────┼───────────┼─────────────────┤\n",
       "│ 1   │ 1.0         │ 13.8889 │ 0.0       │ 1.0       │ 1.0             │\n",
       "│ 2   │ 1.0         │ 13.8889 │ 10.0      │ 0.0       │ 1.0             │\n",
       "│ 3   │ 1.0         │ 13.8889 │ 20.0      │ 0.0       │ 1.0             │\n",
       "│ 4   │ 1.0         │ 13.8889 │ 30.0      │ 0.0       │ 1.0             │\n",
       "│ 5   │ 1.0         │ 13.8889 │ 40.0      │ 0.0       │ 1.0             │\n",
       "│ 6   │ 1.0         │ 13.8889 │ 50.0      │ 0.0       │ 1.0             │\n",
       "│ 7   │ 2.0         │ 13.8889 │ 0.0       │ 0.0       │ 1.0             │\n",
       "│ 8   │ 2.0         │ 13.8889 │ 10.0      │ 0.0       │ 1.0             │\n",
       "│ 9   │ 2.0         │ 13.8889 │ 20.0      │ 0.0       │ 1.0             │\n",
       "│ 10  │ 2.0         │ 13.8889 │ 30.0      │ 0.0       │ 1.0             │\n",
       "⋮\n",
       "│ 14  │ 3.0         │ 13.8889 │ 10.0      │ 0.0       │ 1.0             │\n",
       "│ 15  │ 3.0         │ 13.8889 │ 20.0      │ 0.0       │ 1.0             │\n",
       "│ 16  │ 3.0         │ 13.8889 │ 30.0      │ 0.0       │ 1.0             │\n",
       "│ 17  │ 3.0         │ 13.8889 │ 40.0      │ 0.0       │ 1.0             │\n",
       "│ 18  │ 3.0         │ 13.8889 │ 50.0      │ 0.0       │ 1.0             │\n",
       "│ 19  │ 4.0         │ 13.8889 │ 0.0       │ 0.0       │ 1.0             │\n",
       "│ 20  │ 4.0         │ 13.8889 │ 10.0      │ 0.0       │ 1.0             │\n",
       "│ 21  │ 4.0         │ 13.8889 │ 20.0      │ 0.0       │ 1.0             │\n",
       "│ 22  │ 4.0         │ 13.8889 │ 30.0      │ 0.0       │ 1.0             │\n",
       "│ 23  │ 4.0         │ 13.8889 │ 40.0      │ 0.0       │ 1.0             │\n",
       "│ 24  │ 4.0         │ 13.8889 │ 50.0      │ 0.0       │ 1.0             │"
      ]
     },
     "execution_count": 5,
     "metadata": {},
     "output_type": "execute_result"
    }
   ],
   "source": [
    "# Evaluate EuroNCAP scenarios\n",
    "\n",
    "using CSV\n",
    "using DataFrames\n",
    "\n",
    "\n",
    "algorithm = \"EmergancyBrakingSystem\"\n",
    "\n",
    "\n",
    "policy = \"no\"\n",
    "\n",
    "\n",
    "log_filename = string(\"results_\", algorithm, \"_\", policy, \".csv\")\n",
    "\n",
    "println(log_filename)\n",
    "\n",
    "scenarios = [\"CPCN\", \"CPAN25\", \"CPAN75\", \"CPFA\"]\n",
    "vut_speeds = [50.] #[10., 15., 20., 25., 30., 35., 40., 45., 50., 55., 60.]\n",
    "vut_speeds = vut_speeds / 3.6\n",
    "hit_points = [0., 10., 20., 30., 40., 50.]\n",
    "\n",
    "\n",
    "println(\"Algorithm to evaluate: \", algorithm, \" Policy: \", policy, \" (if specified)\")\n",
    "\n",
    "# Evaluate all EuroNCAP scenarios\n",
    "rec, timestep, env, ego_vehicle, sensor, sensor_observations, risk, ttc, collision_rate, emergency_brake_request, prediction_obstacle, collision, ego_a\n",
    "results = Vector[]\n",
    "for scenario in scenarios\n",
    "    for hit_point in hit_points\n",
    "        for vut_speed in vut_speeds\n",
    "            ego_v = vut_speed\n",
    "            (ego_x, ego_y, ego_v, ped_x, ped_y, ped_v, ped_theta, obstacles, scenario_id) = generate_scenario(scenario, ego_v, hit_point)\n",
    "            if algorithm == \"EmergancyBrakingSystem\"\n",
    "                (rec, timestep, env, sensor, sensor_observations, ego_vehicle, ego_a, collision, collision_rate, ttc, risk, emergency_brake_request, prediction_obstacle) = EmergencyBrakingSystem.evaluate_scenario(ego_x, ego_y, ego_v, ped_x, ped_y, ped_v, ped_theta, obstacles)\n",
    "            elseif algorithm == \"PedestrianAvoidancePOMDP\"\n",
    "\n",
    "            elseif algorithm == \"PedestrianAvoidancePOMDP_EmergencyBrakingSystem\"\n",
    "                \n",
    "            else\n",
    "                println(\"No valid algorithm defined!\")\n",
    "                return false\n",
    "            end\n",
    "            \n",
    "            (collision, emergency_brake_intervention, dv_collision, v_mean, a_mean, a_jerk, a_min) = evaluateScenarioMetric(ego_vehicle, emergency_brake_request, ego_a, collision)\n",
    "            println(collision, \" \", emergency_brake_intervention, \" \", dv_collision, \" \", v_mean, \" \", a_mean, \" \", a_jerk, \" \", a_min)\n",
    "            result = [scenario_id, ego_v, hit_point, collision, emergency_brake_intervention, dv_collision, v_mean, a_mean, a_jerk, a_min  ]\n",
    "            push!(results, result)\n",
    "        end\n",
    "    end \n",
    "end  \n",
    "\n",
    "\n",
    "# store results from scneario evaluation in log file\n",
    "df = DataFrame(results)\n",
    "df = DataFrame(Matrix(df)')\n",
    "rename!(df, :x1 => :scenario_id, :x2 => :ego_v, :x3 => :hit_point, :x4 => :collision, :x5 => :eb_intervention)\n",
    "rename!(df, :x6 => :dv_collision, :x7 => :v_mean, :x8 => :a_mean, :x9 => :a_jerk, :x10 => :a_min)\n",
    "\n",
    "CSV.write(log_filename, df);\n",
    "df\n"
   ]
  }
 ],
 "metadata": {
  "@webio": {
   "lastCommId": "d80e050966904aa49995028724c8befe",
   "lastKernelId": "1de9a23b-0111-4085-91ed-599ae04820e5"
  },
  "kernelspec": {
   "display_name": "Julia 1.0.1",
   "language": "julia",
   "name": "julia-1.0"
  },
  "language_info": {
   "file_extension": ".jl",
   "mimetype": "application/julia",
   "name": "julia",
   "version": "1.0.1"
  }
 },
 "nbformat": 4,
 "nbformat_minor": 2
}
