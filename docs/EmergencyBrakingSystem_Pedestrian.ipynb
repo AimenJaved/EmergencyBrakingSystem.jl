{
 "cells": [
  {
   "cell_type": "code",
   "execution_count": 1,
   "metadata": {},
   "outputs": [
    {
     "name": "stderr",
     "output_type": "stream",
     "text": [
      "WARNING: Method definition warn(Any...) in module Base at util.jl:589 overwritten in module Logging at /home/xubuntu/.julia/v0.6/Logging/src/Logging.jl:115.\n",
      "WARNING: Method definition info(Any...) in module Base at util.jl:534 overwritten in module Logging at /home/xubuntu/.julia/v0.6/Logging/src/Logging.jl:115.\n",
      "WARNING: Method definition copy!(Array{Float64, 1}, AutomotiveDrivingModels.LatLonAccel) in module AutomotiveDrivingModels at /home/xubuntu/.julia/v0.6/AutomotiveDrivingModels/src/2d/actions/lat_lon_accel.jl:13 overwritten in module AutoUrban at /home/xubuntu/.julia/v0.6/AutoUrban/src/simulation/actions.jl:10.\n",
      "WARNING: Method definition split_o(Array{Float64, 1}, AutomotivePOMDPs.UrbanPOMDP) in module AutomotivePOMDPs at /home/xubuntu/stanford/AutomotivePOMDPs/src/generative_pomdps/urban/generative_model.jl:560 overwritten at /home/xubuntu/stanford/AutomotivePOMDPs/src/decomposition/base_scenarios.jl:38.\n",
      "WARNING: Method definition #split_o(Array{Any, 1}, typeof(AutomotivePOMDPs.split_o), Array{Float64, 1}, AutomotivePOMDPs.UrbanPOMDP) in module AutomotivePOMDPs overwritten.\n",
      "WARNING: Method definition collision_checker(AutomotiveDrivingModels.VehicleState, AutomotiveDrivingModels.VehicleState, AutomotiveDrivingModels.VehicleDef, AutomotiveDrivingModels.VehicleDef) in module AutomotivePOMDPs at /home/xubuntu/stanford/AutomotivePOMDPs/src/utils/collision_checker.jl:14 overwritten in module EmergencyBrakingSystem at /home/xubuntu/stanford/EmergencyBrakingSystem.jl/src/EmergencyBrakingSystem.jl:422.\n"
     ]
    }
   ],
   "source": [
    "include(\"../src/EmergencyBrakingSystem.jl\")\n",
    "using AutomotiveDrivingModels\n",
    "using AutoViz\n",
    "using AutomotiveSensors\n",
    "using AutomotivePOMDPs\n",
    "using Parameters\n",
    "using StaticArrays\n",
    "using Reel\n"
   ]
  },
  {
   "cell_type": "code",
   "execution_count": 2,
   "metadata": {},
   "outputs": [
    {
     "name": "stdout",
     "output_type": "stream",
     "text": [
      "No collision!\n"
     ]
    }
   ],
   "source": [
    "\n",
    "# Definition ego vehicle and pedestrian behavior\n",
    "ego_v = 20.0 / 3.6\n",
    "ped_v = 1.0\n",
    "ped_theta = π/2\n",
    "ped_right_side = true\n",
    "hitpoint = 0\n",
    "\n",
    "\n",
    "# Definition obstacles\n",
    "obstacle_right_offset = -VehicleDef().width/2 - 1.0\n",
    "obstacle_1 = ConvexPolygon([VecE2(44, obstacle_right_offset), VecE2(44, obstacle_right_offset-2), VecE2(48.5, obstacle_right_offset-2), VecE2(48.5, obstacle_right_offset)],4)\n",
    "obstacle_2 = ConvexPolygon([VecE2(40., 5.), VecE2(40., 7.), VecE2(44.5, 7.), VecE2(44.5, 5.)],4)\n",
    "obstacles = [obstacle_1, obstacle_2]      # obstacle on the left and right side  \n",
    "#obstacles = []                            # no obstacles\n",
    "\n",
    "\n",
    "# Simulate scenario with parameters above defined\n",
    "(rec, timestep, env, ego_vehicle, sensor, sensor_observations, risk, ttc, collision_rate, brake_request, prediction, collision) = EmergencyBrakingSystem.evaluate_scenario(ego_v, ped_v, ped_theta, obstacles, hitpoint, ped_right_side);\n",
    "\n",
    "if (collision[end])\n",
    "    println(\"Collision!\")\n",
    "else\n",
    "    println(\"No collision!\")\n",
    "end\n"
   ]
  },
  {
   "cell_type": "code",
   "execution_count": 3,
   "metadata": {},
   "outputs": [
    {
     "data": {
      "text/html": [
       "<video autoplay controls><source src=\"files/reel-16550401294594030749.webm?2693101523075697178\" type=\"video/webm\"></video>"
      ],
      "text/plain": [
       "Reel.Frames{MIME{Symbol(\"image/png\")}}(\"/tmp/tmpQsX1dr\", 0x0000000000000050, 20.0, nothing)"
      ]
     },
     "execution_count": 3,
     "metadata": {},
     "output_type": "execute_result"
    }
   ],
   "source": [
    "# Visualize scenario\n",
    "duration, fps, render_hist = EmergencyBrakingSystem.animate_record(rec, timestep, env, ego_vehicle, sensor, sensor_observations, risk, ttc, collision_rate, brake_request, prediction, StaticCamera(VecE2(38.0,0.0),25.0))\n",
    "film = roll(render_hist, fps = fps, duration = duration)"
   ]
  }
 ],
 "metadata": {
  "kernelspec": {
   "display_name": "Julia 0.6.4",
   "language": "julia",
   "name": "julia-0.6"
  },
  "language_info": {
   "file_extension": ".jl",
   "mimetype": "application/julia",
   "name": "julia",
   "version": "0.6.4"
  }
 },
 "nbformat": 4,
 "nbformat_minor": 2
}
