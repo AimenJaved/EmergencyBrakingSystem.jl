{
 "cells": [
  {
   "cell_type": "code",
   "execution_count": 1,
   "metadata": {},
   "outputs": [],
   "source": [
    "] activate ../."
   ]
  },
  {
   "cell_type": "code",
   "execution_count": 2,
   "metadata": {},
   "outputs": [
    {
     "name": "stderr",
     "output_type": "stream",
     "text": [
      "┌ Info: Recompiling stale cache file /home/xubuntu/.julia/compiled/v1.0/EmergencyBrakingSystem/YXMuK.ji for EmergencyBrakingSystem [3f59e4f0-e69d-11e8-310d-15d6353296e9]\n",
      "└ @ Base loading.jl:1187\n",
      "┌ Warning: Package EmergencyBrakingSystem does not have Random in its dependencies:\n",
      "│ - If you have EmergencyBrakingSystem checked out for development and have\n",
      "│   added Random as a dependency but haven't updated your primary\n",
      "│   environment's manifest file, try `Pkg.resolve()`.\n",
      "│ - Otherwise you may need to report an issue with EmergencyBrakingSystem\n",
      "└ Loading Random into EmergencyBrakingSystem from project dependency, future warnings for EmergencyBrakingSystem are suppressed.\n"
     ]
    }
   ],
   "source": [
    "using AutomotiveDrivingModels\n",
    "using AutoViz\n",
    "using AutomotiveSensors\n",
    "using AutomotivePOMDPs\n",
    "using Reel\n",
    "using Revise\n",
    "\n",
    "using EmergencyBrakingSystem"
   ]
  },
  {
   "cell_type": "code",
   "execution_count": 3,
   "metadata": {},
   "outputs": [
    {
     "name": "stdout",
     "output_type": "stream",
     "text": [
      "Scenario: CPAN75 v_ego=50.0km/h v_ped=5.0km/h HP=100.0\n"
     ]
    },
    {
     "data": {
      "text/plain": [
       "(false, 0.0, 12.6578282828283, -9.25, 10.0, -10.0)"
      ]
     },
     "execution_count": 3,
     "metadata": {},
     "output_type": "execute_result"
    }
   ],
   "source": [
    "\n",
    "# Definition ego vehicle and pedestrian behavior\n",
    "\n",
    "scenarios = [\"CPAN25\", \"CPAN75\", \"CPFA\", \"CPCN\"]\n",
    "vut_speeds = [10., 15., 20., 25., 30., 35., 40., 45., 50., 55., 60.]\n",
    "vut_speeds = vut_speeds / 3.6\n",
    "hit_points = [0., 10., 20., 30., 40., 50.]\n",
    "\n",
    "\n",
    "ego_v = vut_speeds[9]\n",
    "hit_point = hit_points[6]\n",
    "scenario = scenarios[2]\n",
    "\n",
    "# Simulate scenario with parameters above defined\n",
    "(ego_x, ego_y, ego_v, ped_x, ped_y, ped_v, ped_theta, obstacles) = generate_scenario(scenario, ego_v, hit_point)\n",
    "(rec, timestep, env, ego_vehicle, sensor, sensor_observations, risk, ttc, collision_rate, brake_request, prediction, collision, ego_a) = EmergencyBrakingSystem.evaluate_scenario(ego_x, ego_y, ego_v, ped_x, ped_y, ped_v, ped_theta, obstacles)\n",
    "\n",
    "\n",
    "(collision, dv_collision, v_mean, a_mean, a_jerk, a_min) = evaluateScenarioMetric(ego_vehicle, ego_a, collision)\n"
   ]
  },
  {
   "cell_type": "code",
   "execution_count": null,
   "metadata": {},
   "outputs": [],
   "source": [
    "# Visualize scenario\n",
    "duration, fps, render_hist = EmergencyBrakingSystem.animate_record(rec, timestep, env, ego_vehicle, sensor, sensor_observations, risk, ttc, collision_rate, brake_request, prediction, StaticCamera(VecE2(38.0,0.0),25.0))\n",
    "film = roll(render_hist, fps = fps, duration = duration)\n",
    "#write(\"file.mp4\", film) # Write to a webm video"
   ]
  },
  {
   "cell_type": "code",
   "execution_count": 25,
   "metadata": {},
   "outputs": [
    {
     "name": "stdout",
     "output_type": "stream",
     "text": [
      "Scenario: CPAN25 v_ego=10.0km/h v_ped=5.0km/h HP=0.0\n",
      "false 0.0 2.6064814814814783 -8.125 20.0 -10.0\n",
      "Scenario: CPAN25 v_ego=10.0km/h v_ped=5.0km/h HP=10.0\n",
      "false 0.0 2.6095959595959566 -8.125 20.0 -10.0\n",
      "Scenario: CPAN25 v_ego=10.0km/h v_ped=5.0km/h HP=20.0\n",
      "false 0.0 2.612599206349203 -8.125 20.0 -10.0\n",
      "Scenario: CPAN25 v_ego=10.0km/h v_ped=5.0km/h HP=30.0\n",
      "false 0.0 2.6095959595959566 -8.125 20.0 -10.0\n",
      "Scenario: CPAN25 v_ego=10.0km/h v_ped=5.0km/h HP=40.0\n",
      "false 0.0 2.6095959595959566 -8.125 20.0 -10.0\n",
      "Scenario: CPAN25 v_ego=10.0km/h v_ped=5.0km/h HP=50.0\n",
      "false 0.0 2.612599206349203 -8.125 20.0 -10.0\n",
      "Scenario: CPAN75 v_ego=10.0km/h v_ped=5.0km/h HP=50.0\n",
      "false 0.0 2.6095959595959566 -8.125 20.0 -10.0\n",
      "Scenario: CPAN75 v_ego=10.0km/h v_ped=5.0km/h HP=60.0\n",
      "false 0.0 2.6095959595959566 -8.125 20.0 -10.0\n",
      "Scenario: CPAN75 v_ego=10.0km/h v_ped=5.0km/h HP=70.0\n",
      "false 0.0 2.612599206349203 -8.125 20.0 -10.0\n",
      "Scenario: CPAN75 v_ego=10.0km/h v_ped=5.0km/h HP=80.0\n",
      "false 0.0 2.6095959595959566 -8.125 20.0 -10.0\n",
      "Scenario: CPAN75 v_ego=10.0km/h v_ped=5.0km/h HP=90.0\n",
      "false 0.0 2.6095959595959566 -8.125 20.0 -10.0\n",
      "Scenario: CPAN75 v_ego=10.0km/h v_ped=5.0km/h HP=100.0\n",
      "false 0.0 2.612599206349203 -8.125 20.0 -10.0\n",
      "Scenario: CPFA v_ego=10.0km/h v_ped=5.0km/h HP=0.0\n",
      "false 0.0 2.6064814814814783 -8.125 20.0 -10.0\n",
      "Scenario: CPFA v_ego=10.0km/h v_ped=5.0km/h HP=10.0\n",
      "false 0.0 2.6095959595959566 -8.125 20.0 -10.0\n",
      "Scenario: CPFA v_ego=10.0km/h v_ped=5.0km/h HP=20.0\n",
      "false 0.0 2.612599206349203 -8.125 20.0 -10.0\n",
      "Scenario: CPFA v_ego=10.0km/h v_ped=5.0km/h HP=30.0\n",
      "false 0.0 2.6095959595959566 -8.125 20.0 -10.0\n",
      "Scenario: CPFA v_ego=10.0km/h v_ped=5.0km/h HP=40.0\n",
      "false 0.0 2.6095959595959566 -8.125 20.0 -10.0\n",
      "Scenario: CPFA v_ego=10.0km/h v_ped=5.0km/h HP=50.0\n",
      "false 0.0 2.612599206349203 -8.125 20.0 -10.0\n",
      "Scenario: CPCN v_ego=10.0km/h v_ped=5.0km/h HP=0.0\n",
      "false 0.0 2.6064814814814783 -8.125 20.0 -10.0\n",
      "Scenario: CPCN v_ego=10.0km/h v_ped=5.0km/h HP=10.0\n",
      "false 0.0 2.6064814814814783 -8.125 20.0 -10.0\n",
      "Scenario: CPCN v_ego=10.0km/h v_ped=5.0km/h HP=20.0\n",
      "false 0.0 2.612599206349203 -8.125 20.0 -10.0\n",
      "Scenario: CPCN v_ego=10.0km/h v_ped=5.0km/h HP=30.0\n",
      "false 0.0 2.612599206349203 -8.125 20.0 -10.0\n",
      "Scenario: CPCN v_ego=10.0km/h v_ped=5.0km/h HP=40.0\n",
      "false 0.0 2.612599206349203 -8.125 20.0 -10.0\n",
      "Scenario: CPCN v_ego=10.0km/h v_ped=5.0km/h HP=50.0\n",
      "false 0.0 2.612599206349203 -8.125 20.0 -10.0\n"
     ]
    }
   ],
   "source": [
    "\n",
    "# Evaluate all EuroNCAP scenarios\n",
    "\n",
    "scenarios = [\"CPAN25\", \"CPAN75\", \"CPFA\", \"CPCN\"]\n",
    "vut_speeds = [10., 15., 20., 25., 30., 35., 40., 45., 50., 55., 60.]\n",
    "vut_speeds = vut_speeds / 3.6\n",
    "hit_points = [0., 10., 20., 30., 40., 50.]\n",
    "\n",
    "for scenario in scenarios\n",
    "    for hit_point in hit_points\n",
    "        for vut_speed in vut_speeds\n",
    "            ego_v = vut_speed\n",
    "            (ego_x, ego_y, ego_v, ped_x, ped_y, ped_v, ped_theta, obstacles) = EmergencyBrakingSystem.generate_scenario(scenario, ego_v, hit_point)\n",
    "            (rec, timestep, env, ego_vehicle, sensor, sensor_observations, risk, ttc, collision_rate, brake_request, prediction, collision, ego_a) = EmergencyBrakingSystem.evaluate_scenario(ego_x, ego_y, ego_v, ped_x, ped_y, ped_v, ped_theta, obstacles)\n",
    "\n",
    "            (collision, dv_collision, v_mean, a_mean, a_jerk, a_min) = evaluateScenarioMetric(ego_vehicle, ego_a, collision)\n",
    "            println(collision, \" \", dv_collision, \" \", v_mean, \" \", a_mean, \" \", a_jerk, \" \", a_min)\n",
    "        end\n",
    "    end \n",
    "end  \n"
   ]
  },
  {
   "cell_type": "code",
   "execution_count": null,
   "metadata": {},
   "outputs": [],
   "source": []
  },
  {
   "cell_type": "code",
   "execution_count": null,
   "metadata": {},
   "outputs": [],
   "source": []
  }
 ],
 "metadata": {
  "@webio": {
   "lastCommId": "0dc5dfced11e4b909261ffe083eb0450",
   "lastKernelId": "efc5625c-98a5-46fc-8c8d-bcb79be99fbd"
  },
  "kernelspec": {
   "display_name": "Julia 1.0.1",
   "language": "julia",
   "name": "julia-1.0"
  },
  "language_info": {
   "file_extension": ".jl",
   "mimetype": "application/julia",
   "name": "julia",
   "version": "1.0.1"
  }
 },
 "nbformat": 4,
 "nbformat_minor": 2
}
