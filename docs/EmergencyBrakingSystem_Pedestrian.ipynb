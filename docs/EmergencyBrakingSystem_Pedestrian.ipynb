{
 "cells": [
  {
   "cell_type": "code",
   "execution_count": null,
   "metadata": {},
   "outputs": [],
   "source": [
    "using AutomotiveDrivingModels\n",
    "using AutoViz\n",
    "using AutomotiveSensors\n",
    "using AutomotivePOMDPs\n",
    "using Reel\n",
    "\n",
    "using EmergencyBrakingSystem"
   ]
  },
  {
   "cell_type": "code",
   "execution_count": 2,
   "metadata": {},
   "outputs": [
    {
     "name": "stdout",
     "output_type": "stream",
     "text": [
      "No collision!\n"
     ]
    }
   ],
   "source": [
    "\n",
    "# Definition ego vehicle and pedestrian behavior\n",
    "ego_v = 20.0 / 3.6\n",
    "ped_v = 1.0\n",
    "ped_theta = π/2\n",
    "ped_right_side = true\n",
    "hitpoint = 0\n",
    "\n",
    "\n",
    "# Definition obstacles\n",
    "obstacle_right_offset = -VehicleDef().width/2 - 1.0\n",
    "obstacle_1 = ConvexPolygon([VecE2(44, obstacle_right_offset), VecE2(44, obstacle_right_offset-2), VecE2(48.5, obstacle_right_offset-2), VecE2(48.5, obstacle_right_offset)],4)\n",
    "obstacle_2 = ConvexPolygon([VecE2(40., 5.), VecE2(40., 7.), VecE2(44.5, 7.), VecE2(44.5, 5.)],4)\n",
    "obstacles = [obstacle_1, obstacle_2]      # obstacle on the left and right side  \n",
    "#obstacles = []                            # no obstacles\n",
    "\n",
    "\n",
    "# Simulate scenario with parameters above defined\n",
    "(rec, timestep, env, ego_vehicle, sensor, sensor_observations, risk, ttc, collision_rate, brake_request, prediction, collision) = EmergencyBrakingSystem.evaluate_scenario(ego_v, ped_v, ped_theta, obstacles, hitpoint, ped_right_side);\n",
    "\n",
    "if (collision[end])\n",
    "    println(\"Collision!\")\n",
    "else\n",
    "    println(\"No collision!\")\n",
    "end\n"
   ]
  },
  {
   "cell_type": "code",
   "execution_count": 3,
   "metadata": {},
   "outputs": [
    {
     "data": {
      "text/html": [
       "<video autoplay controls><source src=\"files/reel-1977463672362186429.webm?13688704305853653773\" type=\"video/webm\"></video>"
      ],
      "text/plain": [
       "Reel.Frames{MIME{Symbol(\"image/png\")}}(\"/tmp/tmp8UX6mS\", 0x0000000000000050, 20.0, nothing)"
      ]
     },
     "execution_count": 3,
     "metadata": {},
     "output_type": "execute_result"
    }
   ],
   "source": [
    "# Visualize scenario\n",
    "duration, fps, render_hist = EmergencyBrakingSystem.animate_record(rec, timestep, env, ego_vehicle, sensor, sensor_observations, risk, ttc, collision_rate, brake_request, prediction, StaticCamera(VecE2(38.0,0.0),25.0))\n",
    "film = roll(render_hist, fps = fps, duration = duration)"
   ]
  },
  {
   "cell_type": "code",
   "execution_count": null,
   "metadata": {},
   "outputs": [],
   "source": []
  }
 ],
 "metadata": {
  "kernelspec": {
   "display_name": "Julia 1.0.0",
   "language": "julia",
   "name": "julia-1.0"
  },
  "language_info": {
   "file_extension": ".jl",
   "mimetype": "application/julia",
   "name": "julia",
   "version": "1.0.0"
  }
 },
 "nbformat": 4,
 "nbformat_minor": 2
}
