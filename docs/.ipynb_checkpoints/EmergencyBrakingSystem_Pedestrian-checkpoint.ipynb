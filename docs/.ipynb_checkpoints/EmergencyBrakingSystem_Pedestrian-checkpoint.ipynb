{
 "cells": [
  {
   "cell_type": "code",
   "execution_count": 5,
   "metadata": {},
   "outputs": [
    {
     "name": "stderr",
     "output_type": "stream",
     "text": [
      "WARNING: replacing module EmergencyBrakingSystem\n",
      "WARNING: Method definition propagate(Records.Entity{AutomotiveDrivingModels.VehicleState, AutomotiveDrivingModels.VehicleDef, Int64}, AutomotiveDrivingModels.LatLonAccel, AutomotiveDrivingModels.Roadway, Float64) in module EmergencyBrakingSystem at /home/xubuntu/stanford/EmergencyBrakingSystem.jl/src/EmergencyBrakingSystem.jl:163 overwritten in module EmergencyBrakingSystem at /home/xubuntu/stanford/EmergencyBrakingSystem.jl/src/EmergencyBrakingSystem.jl:163.\n",
      "WARNING: Method definition collision_checker(AutomotiveDrivingModels.VehicleState, AutomotiveDrivingModels.VehicleState, AutomotiveDrivingModels.VehicleDef, AutomotiveDrivingModels.VehicleDef) in module EmergencyBrakingSystem at /home/xubuntu/stanford/EmergencyBrakingSystem.jl/src/EmergencyBrakingSystem.jl:426 overwritten in module EmergencyBrakingSystem at /home/xubuntu/stanford/EmergencyBrakingSystem.jl/src/EmergencyBrakingSystem.jl:426.\n"
     ]
    },
    {
     "data": {
      "text/plain": [
       "EmergencyBrakingSystem"
      ]
     },
     "execution_count": 5,
     "metadata": {},
     "output_type": "execute_result"
    }
   ],
   "source": [
    "using AutomotiveDrivingModels\n",
    "using AutoViz\n",
    "using AutomotiveSensors\n",
    "using AutomotivePOMDPs\n",
    "using Parameters\n",
    "using StaticArrays\n",
    "using Reel\n",
    "\n",
    "include(\"../src/EmergencyBrakingSystem.jl\")\n"
   ]
  },
  {
   "cell_type": "code",
   "execution_count": 6,
   "metadata": {},
   "outputs": [
    {
     "name": "stdout",
     "output_type": "stream",
     "text": [
      "No collision!\n"
     ]
    }
   ],
   "source": [
    "\n",
    "# Definition ego vehicle and pedestrian behavior\n",
    "ego_v = 20.0 / 3.6\n",
    "ped_v = 1.0\n",
    "ped_theta = π/2\n",
    "ped_right_side = true\n",
    "hitpoint = 0\n",
    "\n",
    "\n",
    "# Definition obstacles\n",
    "obstacle_right_offset = -VehicleDef().width/2 - 1.0\n",
    "obstacle_1 = ConvexPolygon([VecE2(44, obstacle_right_offset), VecE2(44, obstacle_right_offset-2), VecE2(48.5, obstacle_right_offset-2), VecE2(48.5, obstacle_right_offset)],4)\n",
    "obstacle_2 = ConvexPolygon([VecE2(40., 5.), VecE2(40., 7.), VecE2(44.5, 7.), VecE2(44.5, 5.)],4)\n",
    "obstacles = [obstacle_1, obstacle_2]      # obstacle on the left and right side  \n",
    "#obstacles = []                            # no obstacles\n",
    "\n",
    "\n",
    "# Simulate scenario with parameters above defined\n",
    "(rec, timestep, env, ego_vehicle, sensor, sensor_observations, risk, ttc, collision_rate, brake_request, prediction, collision) = EmergencyBrakingSystem.evaluate_scenario(ego_v, ped_v, ped_theta, obstacles, hitpoint, ped_right_side);\n",
    "\n",
    "if (collision[end])\n",
    "    println(\"Collision!\")\n",
    "else\n",
    "    println(\"No collision!\")\n",
    "end\n"
   ]
  },
  {
   "cell_type": "code",
   "execution_count": 8,
   "metadata": {},
   "outputs": [
    {
     "data": {
      "text/html": [
       "<video autoplay controls><source src=\"files/reel-11506310302522908454.webm?1746799567086584366\" type=\"video/webm\"></video>"
      ],
      "text/plain": [
       "Reel.Frames{MIME{Symbol(\"image/png\")}}(\"/tmp/tmpYqADIB\", 0x0000000000000050, 20.0, nothing)"
      ]
     },
     "execution_count": 8,
     "metadata": {},
     "output_type": "execute_result"
    }
   ],
   "source": [
    "# Visualize scenario\n",
    "duration, fps, render_hist = EmergencyBrakingSystem.animate_record(rec, timestep, env, ego_vehicle, sensor, sensor_observations, risk, ttc, collision_rate, brake_request, prediction, StaticCamera(VecE2(38.0,0.0),25.0))\n",
    "film = roll(render_hist, fps = fps, duration = duration)"
   ]
  },
  {
   "cell_type": "code",
   "execution_count": null,
   "metadata": {},
   "outputs": [],
   "source": []
  }
 ],
 "metadata": {
  "kernelspec": {
   "display_name": "Julia 0.6.4",
   "language": "julia",
   "name": "julia-0.6"
  },
  "language_info": {
   "file_extension": ".jl",
   "mimetype": "application/julia",
   "name": "julia",
   "version": "0.6.4"
  }
 },
 "nbformat": 4,
 "nbformat_minor": 2
}
