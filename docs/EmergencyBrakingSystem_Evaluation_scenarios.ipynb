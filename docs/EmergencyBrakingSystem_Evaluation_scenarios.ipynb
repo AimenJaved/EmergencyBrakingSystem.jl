{
 "cells": [
  {
   "cell_type": "code",
   "execution_count": null,
   "metadata": {},
   "outputs": [],
   "source": [
    "using AutomotiveDrivingModels\n",
    "using AutoViz\n",
    "using AutomotiveSensors\n",
    "using AutomotivePOMDPs\n",
    "using Reel\n",
    "using Revise\n",
    "using EmergencyBrakingSystem\n",
    "\n",
    "using CSV\n",
    "using DataFrames"
   ]
  },
  {
   "cell_type": "code",
   "execution_count": null,
   "metadata": {},
   "outputs": [],
   "source": [
    "### Evaluate all EuroNCAP scenarios\n",
    "\n",
    "# Definition EuroNCAP scenarios, ego vehicle and pedestrian behavior\n",
    "scenarios = [\"CPCN\", \"CPAN25\", \"CPAN75\", \"CPFA\", \"FP\"]\n",
    "vut_speeds = [10., 15., 20., 25., 30., 35., 40., 45., 50., 55., 60.]\n",
    "vut_speeds = vut_speeds / 3.6\n",
    "\n",
    "results = Vector[]\n",
    "for scenario in scenarios\n",
    "    println(\"Scenario: \", scenario)\n",
    "    if (scenario == \"FP\") \n",
    "        hit_points = [-100., 200.]\n",
    "    else\n",
    "        hit_points = [0., 10., 20., 30., 40., 50.]\n",
    "    end\n",
    "    for hit_point in hit_points\n",
    "        for vut_speed in vut_speeds\n",
    "            ego_v = vut_speed\n",
    "            (ego_x, ego_y, ego_v, ped_x, ped_y, ped_v, ped_theta, obstacles, scenario_id) = EmergencyBrakingSystem.generate_scenario(scenario, ego_v, hit_point)\n",
    "            \n",
    "            (rec, timestep, env, sensor, sensor_observations, ego_vehicle, ego_a, collision, collision_rate, ttc, risk, emergency_brake_request, prediction_obstacle) = EmergencyBrakingSystem.evaluate_scenario(ego_x, ego_y, ego_v, ped_x, ped_y, ped_v, ped_theta, obstacles)\n",
    "            (collision, emergency_brake_intervention, dv_collision, v_mean, a_mean, a_jerk, a_min) = EmergencyBrakingSystem.evaluateScenarioMetric(ego_vehicle, emergency_brake_request, ego_a, collision, ped_x)\n",
    "            println(\"Collision: \", collision, \" eb: \", emergency_brake_intervention, \" \", round(dv_collision, digits=1), \" \", round(v_mean, digits=1), \" \", round(a_mean, digits=1), \" \", a_jerk, \" \", a_min)\n",
    "            result = [scenario_id, ego_v, hit_point, collision, emergency_brake_intervention, dv_collision, v_mean, a_mean, a_jerk, a_min  ]\n",
    "            push!(results, result)\n",
    "        end\n",
    "    end \n",
    "end  \n",
    "\n",
    "\n",
    "# store results from scneario evaluation in log file\n",
    "df = DataFrame(results)\n",
    "df = DataFrame(Matrix(df)')\n",
    "rename!(df, :x1 => :scenario_id, :x2 => :ego_v, :x3 => :hit_point, :x4 => :collision, :x5 => :eb_intervention)\n",
    "rename!(df, :x6 => :dv_collision, :x7 => :v_mean, :x8 => :a_mean, :x9 => :a_jerk, :x10 => :a_min)\n",
    "CSV.write(\"results_EmergancyBrakingSystem_no.csv\", df);\n",
    "\n",
    "\n",
    "(sum_collisions, sum_eb, dv, v_mean, a_mean, a_jerk, a_min) = EmergencyBrakingSystem.evaluateScenariosMetric(results)\n",
    "println(\"#collisions: \", sum_collisions, \" #emergency brake interventions: \", sum_eb, \" dv_m: \", dv, \" v_mean: \", v_mean, \" a_mean: \", a_mean, \" a_jerk: \", a_jerk, \" a_min: \", a_min)\n",
    "\n",
    "df\n"
   ]
  }
 ],
 "metadata": {
  "@webio": {
   "lastCommId": "23802761534c478a97dce132280fc9bd",
   "lastKernelId": "014acdc4-6d6a-4c90-9b46-408dc0217e6f"
  },
  "kernelspec": {
   "display_name": "Julia 1.0.1",
   "language": "julia",
   "name": "julia-1.0"
  },
  "language_info": {
   "file_extension": ".jl",
   "mimetype": "application/julia",
   "name": "julia",
   "version": "1.0.1"
  }
 },
 "nbformat": 4,
 "nbformat_minor": 2
}
